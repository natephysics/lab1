{
 "cells": [
  {
   "cell_type": "markdown",
   "metadata": {},
   "source": [
    "<img src=\"images/unilogo.png\" style=\"width: 200px;\">\n",
    "\n",
    "Measurement and analysis of Colloidal Plasmas\n",
    "===============================================\n",
    "Authored by: [Nathan Belmore](https://plasma.physics.berkeley.edu/faculty-staff/nathan-belmore) \n",
    "In partnership with Tobias Tubandt\n",
    "\n",
    "Published: 6.11.2018\n",
    "\n",
    "\n",
    "## Abstract\n",
    "***\n",
    "In this experiment we examine the properties of a dusty plasma. From images of the Coulomb lattice we were able to derive the Winger-Seitz radius $r_s = 7.355 \\mu m$ and an inter-particle spacing of 356$\\mu m$. Using the particle velocity we solved for $T_d = 282.09 K$. We also found the charge on the particle to be $Q_d = -195994.65q$ with high confidence of that value. With the measurement of $Q_d$ and $T_d$ we also were able to solve for $\\Gamma = 11.9*10^6$.\n",
    "\n",
    "## Introduction\n",
    "***\n",
    "There is great interest in studying colloidal plasmas that occur during industrial processes like welding and thin film deposits. Plasmas in the presence of a strong electric field attract dust, which gets trapped in the sheath of the plasma. The dust forms crystal structures that can impact the desired application of the plasma. Experiments have been conducted in the past to examine the nature of the dusty plasmas. We reproduce many of the results found in Melzer et al.<sup>[1][1]</sup> and Thomas et al<sup>[2][2]</sup>. \n",
    "\n",
    "\n",
    "## Physical Principles\n",
    "***\n",
    "### Colloidal Plasma\n",
    "\n",
    "Colloidal Plasma is describing a kind of plasma which include macroscopic particles aside from electrons, ions and the neutral gas. When added into the plasma the particles are getting charged by the movement of electrons and ions. Since the electrons show a high mobility due to their mass, the dust particles will initially be charged negatively. There is a charging process whereby the current of electrons $I_e$ and ions $I_i$ will compensate each other over time. Therefor the particles reach a state of stable Charge $Q$.\n",
    "\n",
    "$$\\dot{Q} = I_e(\\Theta_f) + I_i(\\Theta_f)=0$$\n",
    "\n",
    "$\\Theta_f$ is the Floating Potential. In the experiment we use an electrode on the bottom of the gas chamber. When dust particles are added into the plasma, the particles initially are charged negative by the electrons and get trapped by the electric field of the electrode. Therefore the particles are trapped in a potential well.\n",
    "\n",
    "So the Floating Potential then can be described as an equilibrium between the gravitational pull and the electric field induced by the electrode.\n",
    "\n",
    "Part of the experiment is the mutual interaction of the trapped particles. While being trapped by the electrode, the dust is building lattice structures. This behavior described by the coupling parameter $\\Gamma$, a relation to explain the electrostatic interaction of the next neighbors in terms of units of the thermal energy.\n",
    "\n",
    "$$\\Gamma=\\frac{Q_d^2}{4 \\pi \\epsilon_0 r_{s} k_b T_d}$$\n",
    "\n",
    "Where $r_s$ is the Wigner-Seitz radius and $T_d$ the temperature of the dust particles.\n",
    "\n",
    "### Particle Charge\n",
    "\n",
    "Through modulation of the electrode, it is possible to induce oscillations of the trapped dust and get a resonance curve $R(\\omega)$.\n",
    "\n",
    "$$R(\\omega)= \\frac{1}{\\sqrt{(\\omega_{res}^2 - \\omega^2)^2 + \\beta^2\\omega^2}}$$\n",
    "\n",
    "\n",
    "$$\\omega_{res}^2= \\frac{Q_d E_1}{m_d}$$\n",
    "\n",
    "Through a camera, the oscillation of the particles is recorded. By using the data, the resonance curve can be obtained and by fitting the curve the gas friction parameter $\\beta$ can be measured. To determine the particle charge $Q_d$, the electric field $E_1$ must be known.\n",
    "\n",
    "$$E_1=\\frac{e}{\\epsilon_0}0.61n_i(1-1.3)$$\n",
    "\n",
    "The ion density in the sheath $n_i$ can be estimated with the BOHM criteria and the relations $n_e=1.3n_i$ $n_i=0.61n_{i0}$. $n_{i0}$ describes the ino density in the plasma discharge.\n",
    "\n",
    "\n",
    "\n",
    "| <img src=\"images/graph.jpg\" style=\"width: 400px;\">|\n",
    "|----------------------------------------------------------------------------|\n",
    "| Fig. 1 Electron density in the center of the plasma discharge for several <br> pressure and applied power values. (from lab report) |\n",
    "\n",
    "### Dust Temperature\n",
    "\n",
    "To get the particle temperature $T_d$ we use the Maxwell velocity distribution. The movement of the dust is seen as Brownian motion of particles. Under these circumstances, we can determine $T_d$.\n",
    "\n",
    "$$\\langle v_d \\rangle= \\sqrt{\\frac{8 k_b T_d}{\\pi m_d}}$$\n",
    "\n",
    "\n",
    "### Coupling\n",
    "\n",
    "The form of $\\Gamma$ its only used for the model of one component plasma. Typical effects in the plasma like Debye shielding demand another model and therefore another relation of $\\Gamma_{eff}$. The one component plasma model is a limit for $\\kappa \\rightarrow 0 $. Also, there is a critical value for $\\Gamma_{c,2D} \\approx 130$ for the lattice behavior. \n",
    "\n",
    "$$\\Gamma_{eff}= \\Gamma e^{-\\kappa}= \\Gamma e^{-\\frac{r_s}{\\lambda_D}}$$\n",
    "\n",
    "\n",
    "\n",
    "## Section 2.1 : Measurment apparatus\n",
    "***\n",
    "| <img src=\"images/setup.png\" style=\"width: 400px;\">|\n",
    "|----------------------------------------------------------------------------|\n",
    "| Fig. 2 Experimental appratus (taken from Thomas et al<sup>[2][2]</sup>) |\n",
    "\n",
    "An vacuum cavity (~0.1 Pa) and roughing pump with two circular parallel plates oriented perpendicular to gravity (Z-direction). The lower plate has a slight concavity to help create a potential barrier for the X-Y plain. The upper plate is just a mesh so that light can escape the top. An RF generator is connected to an impedance matching circuit (Pi) and connected to the plates. A laser is used to illuminate the particles. There is a small dust dropper on a hinge used to inject the dust particles into the plasma region. There is a bottle of argon gas attached to the cavity. A camera is mounted above.\n",
    "\n",
    "\n",
    "## Section 2.2 : Experimental Procedure\n",
    "***\n",
    "\n",
    "#### Trapping\n",
    "\n",
    "The cavity is evacuated and the argon gas is let in. The RF generator is turned on an turned to high amplitude (10-40W) to ignite the argon plasma. This can be seen as an incandescent glow from the cavity. Once the plasma is formed the circuit is tuned by adjusting the $\\Pi$-impedance matching circuit. Once the reflected amplitude is minimized the amplitude of the RF is reduced to 6W to reduces ion currents in the plasma. The dust dropper is positioned and jostled. Laser light is projected though a cylindrical lense into the cavity from the side (x-y plane) and a camera is mounted above the experiment, so it's pointing in the -z-direction. When dust is trapped in the sheath of the plasma the particles are illuminated by the laser.\n",
    "\n",
    "#### Inter-particle spacing measurement\n",
    "\n",
    "In the sheath, the dust forms a lattice, which is visible using the camera. Taking an overhead image, we can get a measurement of the radius of the particles and the inter-particle spacing.\n",
    "\n",
    "#### $\\left\\langle \\vec{v}  \\right\\rangle$ measurement\n",
    "\n",
    "To get a measure of $T_d$, the temperature of the dusty plasma, we need to get $\\left\\langle \\vec{v}  \\right\\rangle$ using the 2D particle image velocimetry (PIV) technique. We can do that by taking a series of images of the dust particles and measuring the displacement to get the velocity. \n",
    "\n",
    "#### $\\omega_{res}$ measurement\n",
    "\n",
    "To measure $\\omega_{res}$, which is necessary for solving for $Q_d$, we remount the camera in the (x-y) plane. We apply a modulated signal to the plasma from 6-30hz and using the camera with a long exposure time to measure the amplitude of the displacement. We can use this data to fit a resonance curve with $\\omega_{res}$ as one of the fit parameters:\n",
    "$$R(\\omega) = \\frac{1}{\\sqrt{(\\omega_{res}^2-\\omega^2)^2+\\beta^2 \\omega^2}}$$\n",
    "\n",
    "[1]: https://doi.org/10.1016/0375-9601(94)90144-9  \"Melzer\"\n",
    "[2]: https://aip.scitation.org/doi/10.1063/1.1755705       \"Thomas\""
   ]
  },
  {
   "cell_type": "markdown",
   "metadata": {},
   "source": [
    "## Section 3 - Data Analysis\n",
    "***\n",
    "The first step is to setup the analysis environment and import the data."
   ]
  },
  {
   "cell_type": "code",
   "execution_count": 1,
   "metadata": {},
   "outputs": [],
   "source": [
    "#creating the correct enviroment for the analysis\n",
    "import os\n",
    "import numpy as np\n",
    "import matplotlib.pyplot as plt\n",
    "import scipy.constants as c\n",
    "from scipy.optimize import curve_fit\n",
    "\n",
    "#loading in the data\n",
    "file_path = os.path.join('data', 'dataset.csv')\n",
    "data = np.loadtxt(fname=file_path, delimiter=\",\")"
   ]
  },
  {
   "cell_type": "markdown",
   "metadata": {},
   "source": [
    "### Section 3.1.1 - Solving for the Wigner–Seitz radius $r_s$ and mass $m_d$"
   ]
  },
  {
   "cell_type": "markdown",
   "metadata": {},
   "source": [
    "First we want to solve for the Winger-Seitz radius $r_s$. According to  wikipedia, in a 3-D system with $N$ free electrons in a volume $V$, the Wigner–Seitz radius is defined by:\n",
    "\n",
    "$$\\frac{4}{3} \\pi r_s^3 = \\frac{V}{N} = \\frac{1}{n_e}$$\n",
    "\n",
    "Solving for $r_s$ we obtain:\n",
    "\n",
    "$$r_s = \\left(\\frac{3}{4\\pi n_e}\\right)^{1/3}\\,$$\n",
    "\n",
    "We also need $n_e$, which we can get from fig 1:\n",
    "\n",
    "Based on our 6W of applied power and 9.7Pa of pressure that we'd have $n_e = 0.5*10^{14}$ electrons/m^3. \n",
    "\n",
    "Using that we can solve for $r_s$:"
   ]
  },
  {
   "cell_type": "code",
   "execution_count": 2,
   "metadata": {},
   "outputs": [
    {
     "name": "stdout",
     "output_type": "stream",
     "text": [
      "7.815926417967725e-06\n"
     ]
    }
   ],
   "source": [
    "ne = 5*10**14\n",
    "\n",
    "rs = (3 / (4*np.pi*ne))**(1/3)\n",
    "print(rs)"
   ]
  },
  {
   "cell_type": "markdown",
   "metadata": {},
   "source": [
    "We get $r_s = 7.82 \\mu m$.\n",
    "\n",
    "We can get the mass term from the density $\\rho$ = 1500 kg/m^3 and the particle diameter $r \\approx 7.82 \\mu m$ since the radius of the particle should be on the order of $r_s$. Calculating the mass: $$m_d = \\frac{4}{3} \\pi (r)^3 * \\rho$$"
   ]
  },
  {
   "cell_type": "code",
   "execution_count": 3,
   "metadata": {},
   "outputs": [
    {
     "name": "stdout",
     "output_type": "stream",
     "text": [
      "md: 3.0000000000000054e-12\n"
     ]
    }
   ],
   "source": [
    "#Solving for the mass term\n",
    "rho = 1500\n",
    "\n",
    "md = 4/3 * np.pi * (rs)**3 * rho\n",
    "print(\"md: \"+str(md))"
   ]
  },
  {
   "cell_type": "markdown",
   "metadata": {},
   "source": [
    "We get $m_d = 3*10^{-12}$."
   ]
  },
  {
   "cell_type": "markdown",
   "metadata": {},
   "source": [
    "### Section 3.1.2 Solving for the temperature $T_d$\n",
    "\n",
    "From $\\left\\langle \\vec{v}  \\right\\rangle$ we can calculate $T_d$ using the relation: $$\\left\\langle \\vec{v}  \\right\\rangle = \\sqrt{\\frac{8}{\\pi}\\frac{k_B T_d}{m_d}}$$\n",
    "\n",
    "Solving for T gives us: \n",
    "$$T_d=\\frac{\\pi \\left\\langle \\vec{v}  \\right\\rangle^2 m_d}{8 k_B}$$\n",
    "\n",
    "To calculate $\\left\\langle \\vec{v}  \\right\\rangle$ we tracked the location of 21 particles x & y positions using software and created an array of the results. Below we calculate $\\left\\langle \\vec{v} \\right\\rangle$ from the data. "
   ]
  },
  {
   "cell_type": "code",
   "execution_count": 4,
   "metadata": {},
   "outputs": [
    {
     "name": "stdout",
     "output_type": "stream",
     "text": [
      "vbar^2: 0.03380693676190473\n"
     ]
    }
   ],
   "source": [
    "#Taking difference of the data points (ie. dx1, dy1, dx2, dy2, ect.)\n",
    "datadiff = data[0:999:2,:]-data[1:1000:2,:]\n",
    "\n",
    "#Taking square of data (ie dx1^2, dy1^2, dx2^2, dy2^2 ect.)\n",
    "datasqr = np.multiply(datadiff,datadiff)\n",
    "\n",
    "#Take sum of dxi^2 & dyi^2\n",
    "datasum = datasqr[:,0:42:2]+datasqr[:,1:42:2]\n",
    "\n",
    "#Take the avarage\n",
    "avaragev = sum(datasum/500)\n",
    "vbarsqr = sum(avaragev/21)\n",
    "print(\"vbar^2: \"+str(vbarsqr))"
   ]
  },
  {
   "cell_type": "markdown",
   "metadata": {},
   "source": [
    "We currently have $\\left\\langle \\vec{v}  \\right\\rangle$ in pixels/interval. We took data at 160 fps, each interval of data is 2 frames. So we have 80 intervals/sec. \n",
    "\n",
    "We also need the conversion for the distance. The dust radius is on the order of the as $r_s = 7.82 \\mu m$. We had a measured diameter between particle in our lattice of 2 pixels and interparticle spacing of 71.3568 pixels (see image below). \n",
    "\n",
    "| <img src=\"images/IPS.png\" style=\"width: 400px;\">|\n",
    "|----------------------------------------------------------------------------|\n",
    "| Fig. 3 Image of dust particle seperation taked from top mounted camera. <br> Red line represents the interparticle spacing |"
   ]
  },
  {
   "cell_type": "code",
   "execution_count": 5,
   "metadata": {},
   "outputs": [
    {
     "name": "stdout",
     "output_type": "stream",
     "text": [
      "3.907963208983863e-06\n",
      "0.0002788722545930884\n"
     ]
    }
   ],
   "source": [
    "#The pixel to meters conversion ratio\n",
    "convx = rs/2\n",
    "print(convx)\n",
    "\n",
    "#Using convx to solve the inter-particle spacing\n",
    "ips = 71.36*convx\n",
    "print(ips)"
   ]
  },
  {
   "cell_type": "markdown",
   "metadata": {},
   "source": [
    "This gives us a conversion factor of 3.91*10^-6 meters/pixel. This gives us an interparticle spacing of 278.87$\\mu m$. We can use convx to convert vbar into the correct units and plug everything in to solve for $T_d$."
   ]
  },
  {
   "cell_type": "code",
   "execution_count": 6,
   "metadata": {},
   "outputs": [
    {
     "name": "stdout",
     "output_type": "stream",
     "text": [
      "Temp: 282.09070885493026\n"
     ]
    }
   ],
   "source": [
    "#Converting vbar into correct units\n",
    "convt = 80 #intervals/second\n",
    "\n",
    "#Converting our vbar^2 into SI units, we need 2 copies of the conversion factors because it's v^2\n",
    "vbarsqrsi = vbarsqr*convx*convx*convt*convt\n",
    "\n",
    "#Solving for Td\n",
    "k = 1.38 * 10**(-23)\n",
    "T = np.pi * vbarsqrsi * md / (8 * k)\n",
    "print(\"Temp: \"+str(T))"
   ]
  },
  {
   "cell_type": "markdown",
   "metadata": {},
   "source": [
    "With a final measured tempature $T_d = 282.09$k."
   ]
  },
  {
   "cell_type": "markdown",
   "metadata": {},
   "source": [
    "### Section 3.1.3 - Solving for $\\omega_{res}$ and $Q_d$.\n",
    "\n",
    "We are solving for $Q_d$. To do so we need the following relation:\n",
    "\n",
    "$$\\omega_{res}^2 = \\frac{Q_d E_1}{m_d}$$\n",
    "\n",
    "Which means we need $E_1$ and $\\omega_{res}$. $E_1$ we can get from the following relation: \n",
    "\n",
    "$$E_1 = \\frac{e}{\\epsilon_0}0.61 * n_i(1-1.3)$$\n",
    "\n",
    "And we can get $n_i$ from the knowledge of the electron ion ratio in the sheath $n_e = 1.3*n_i$, and we have $n_e$ from section 3.1.1.A."
   ]
  },
  {
   "cell_type": "code",
   "execution_count": 22,
   "metadata": {},
   "outputs": [],
   "source": [
    "'''Ion Density'''\n",
    "ni = ne / 1.3\n",
    "\n",
    "'''E1'''\n",
    "E1 = c.e/c.epsilon_0 * 0.61 * ni * (1 - 1.3)"
   ]
  },
  {
   "cell_type": "markdown",
   "metadata": {},
   "source": [
    "Now we want to solve for $\\omega_{res}$. Here we analyize the applied RF drive and the measured displacement amplitude of the lattice. "
   ]
  },
  {
   "cell_type": "code",
   "execution_count": 8,
   "metadata": {},
   "outputs": [],
   "source": [
    "'''Applied RF drive [10hz,30hz]*2*pi'''\n",
    "applied = [62.83, 75.4, 87.96, 100.53, 106.81, 113.1, 119.38, 125.66, 131.95, 138.23, 144.51, 150.8, 163.36, 182.21]\n",
    "\n",
    "'''Measured Amplitude'''\n",
    "measured = [13, 15.33, 17.67, 21.98, 25.99, 31, 35.33, 40, 35.77, 27, 21.33, 17.58, 12, 9]"
   ]
  },
  {
   "cell_type": "code",
   "execution_count": 9,
   "metadata": {},
   "outputs": [
    {
     "data": {
      "image/png": "[encoded data removed]",
      "text/plain": [
       "<Figure size 432x288 with 1 Axes>"
      ]
     },
     "metadata": {
      "needs_background": "light"
     },
     "output_type": "display_data"
    }
   ],
   "source": [
    "#Plotting the measured data\n",
    "fig, ax = plt.subplots()\n",
    "ax.plot(applied, measured, label='Measured $\\omega$', ls='none', marker='+', ms=15, color='orange')\n",
    "\n",
    "#Lables, legend, grid, and title for plot\n",
    "ax.set_xlabel('$\\omega$ (1/s)')\n",
    "ax.set_ylabel('Measured displacement (in pixels)')\n",
    "ax.set_title('Resonance Data') \n",
    "ax.legend(loc='upper right')\n",
    "ax.grid(True)"
   ]
  },
  {
   "cell_type": "markdown",
   "metadata": {},
   "source": [
    "The data has a clear peak at the center. To find $\\omega_{res}$ we need to fit the dataset to the resonance curve fuction:\n",
    "$$R(\\omega) = \\frac{1}{\\sqrt{(\\omega_{res}^2-\\omega^2)^2+\\beta^2 \\omega^2}}$$"
   ]
  },
  {
   "cell_type": "code",
   "execution_count": 10,
   "metadata": {},
   "outputs": [],
   "source": [
    "def resonanceCurve(omega, p1, p2, p3):\n",
    "    \"\"\"Resonance function R(omega) defined by 3 fit parameters. \n",
    "    \"\"\"\n",
    "    out = ((p2**2 - np.square(omega))**2 + p3**2 * np.square(omega))**(1/2)\n",
    "    return p1/out"
   ]
  },
  {
   "cell_type": "code",
   "execution_count": 11,
   "metadata": {},
   "outputs": [
    {
     "name": "stdout",
     "output_type": "stream",
     "text": [
      "-126.3955554807998 -29.968108959296035\n"
     ]
    }
   ],
   "source": [
    "[p1, p2, p3], pcov = curve_fit(resonanceCurve, applied, measured, p0=[30000, 2*np.pi*5, 5])\n",
    "print(p2,p3)"
   ]
  },
  {
   "cell_type": "markdown",
   "metadata": {},
   "source": [
    "Checking the fit results gives us $\\omega_{res} = 126.39$ and $\\beta = 29.97$. Plugging in the three fit parameters to check the results provide:"
   ]
  },
  {
   "cell_type": "code",
   "execution_count": 12,
   "metadata": {},
   "outputs": [
    {
     "data": {
      "image/png": "[encoded data removed]",
      "text/plain": [
       "<Figure size 432x288 with 1 Axes>"
      ]
     },
     "metadata": {
      "needs_background": "light"
     },
     "output_type": "display_data"
    }
   ],
   "source": [
    "#Define the x and y values of the fitted fuction and plot it against the data.\n",
    "omegares = p2\n",
    "beta = p3\n",
    "\n",
    "#x and y values for the fit\n",
    "x = np.linspace(60,190,1000)\n",
    "curve = resonanceCurve(x, 1.46029191e+05, omegares, beta)\n",
    "\n",
    "#Plotting omega measured along with the fit of the resonance function\n",
    "fig, ax = plt.subplots()\n",
    "ax.plot(x, curve, label='Fit', ls='none', marker='o', ms=1)\n",
    "ax.plot(applied, measured, label='Measured $\\omega$', ls='none', marker='+', ms=12)\n",
    "\n",
    "#Lables, legend, grid, and title for plot\n",
    "ax.set_xlabel('$\\omega$ (1/s)')\n",
    "ax.set_ylabel('Measured displacement (in pixels)')\n",
    "ax.set_title('Resonance Data and Fit') \n",
    "ax.legend(loc='upper right')\n",
    "ax.grid(True)"
   ]
  },
  {
   "cell_type": "markdown",
   "metadata": {},
   "source": [
    "That fit seems accurate and the peak of the curve seems to be right. With our $\\omega_{res}$ value we can now solve for $Q_d$.\n",
    "\n",
    "$$Q_d = \\frac{\\omega_{res}^2 }{E_1m_d}$$"
   ]
  },
  {
   "cell_type": "code",
   "execution_count": 13,
   "metadata": {},
   "outputs": [
    {
     "name": "stdout",
     "output_type": "stream",
     "text": [
      "-3.763097394661307e-14\n",
      "-235193.58716633165\n"
     ]
    }
   ],
   "source": [
    "Qd = omegares**2 * md / E1\n",
    "print(Qd)\n",
    "print(Qd/(1.6*10**(-19)))"
   ]
  },
  {
   "cell_type": "markdown",
   "metadata": {},
   "source": [
    "Which gives us $Q_d = -3.76*10^{-14} = -235193.59e$."
   ]
  },
  {
   "cell_type": "markdown",
   "metadata": {},
   "source": [
    "### Section 3.1.4 - Solving for $\\Gamma$\n",
    "\n",
    "We now want to solve for $\\Gamma$ now that we have all the relevant quantities. "
   ]
  },
  {
   "cell_type": "code",
   "execution_count": 14,
   "metadata": {},
   "outputs": [
    {
     "name": "stdout",
     "output_type": "stream",
     "text": [
      "11718043.382508451\n",
      "11902657.281580402\n"
     ]
    }
   ],
   "source": [
    "gamma_ef = Qd**2 * 1 / (4 * np.pi * c.epsilon_0 * c.k * ips * T)\n",
    "print(gamma_ef)\n",
    "\n",
    "debye = 500 * 10**(-6)\n",
    "gamma = gamma_ef/(np.exp(-rs/debye))\n",
    "print(gamma)"
   ]
  },
  {
   "cell_type": "markdown",
   "metadata": {},
   "source": [
    "We get $\\Gamma = 11.9*10^6$, which is within a small factor of what was measured in A. Melzer et. al. According to A. Melzer et al., these large values of measured $\\Gamma$ could be explained by problems with the assumptions surrounding one component plasma theory. The theory likely breaks down when applied to this system so the results should be taken with a grain of salt. "
   ]
  },
  {
   "cell_type": "markdown",
   "metadata": {},
   "source": [
    "## Section 4 Error propagation\n",
    "***"
   ]
  },
  {
   "cell_type": "markdown",
   "metadata": {},
   "source": [
    "We now examine the extent that noise can impact the results. \n",
    "\n",
    "#### Error $m_d$:\n",
    "\n",
    "$m_d = \\frac{4}{3} \\pi (\\frac{d}{2})^3 * \\rho$ Since we are using assumed values for $\\rho$ and $d$, but we expect the error in the values to be small compared to the order of the values. \n",
    "\n",
    "$m_d = \\alpha (d + \\epsilon_d)^3 * (\\rho + \\epsilon_{\\rho}) = \\alpha (d^2 + d\\epsilon_d + O(\\epsilon_d^2))(\\rho + \\epsilon_{\\rho}) = \\alpha (d^3\\rho + d^2 \\epsilon_d \\rho + d^3\\epsilon_{\\rho} + O(\\epsilon^2))$\n",
    "\n",
    "$d^2 \\epsilon_d \\rho \\approx d^3\\epsilon_{\\rho}$, the error contributions are relatively proportional to the values $\\rho$ and $d$. As can be seen below, a 5 percent error on $\\rho$ or $d$ results in roughly a 5 percent error on $m$ and the errors add linearly."
   ]
  },
  {
   "cell_type": "code",
   "execution_count": 15,
   "metadata": {},
   "outputs": [
    {
     "data": {
      "image/png": "[encoded data removed]",
      "text/plain": [
       "<Figure size 720x216 with 2 Axes>"
      ]
     },
     "metadata": {
      "needs_background": "light"
     },
     "output_type": "display_data"
    }
   ],
   "source": [
    "rho = 1500\n",
    "d = 7*10**(-6)\n",
    "\n",
    "def massratio(e_rho, e_d):\n",
    "    return (d**3 * rho + d**2 * rho * e_d + d**3 * e_rho) / (d**3 * rho)\n",
    "\n",
    "percent_error = np.linspace(0,0.05,100)\n",
    "\n",
    "error_rho_p = massratio(np.linspace(0,rho*0.05,100), 0)\n",
    "error_rho_m = massratio(np.linspace(0,-rho*0.05,100), 0)\n",
    "\n",
    "error_d_p = massratio(0,np.linspace(0,d*0.05,100))\n",
    "error_d_m = massratio(0,np.linspace(0,-d*0.05,100))\n",
    "\n",
    "#Plotting omega measured along with the fit of the resonance function\n",
    "fig, ax = plt.subplots(nrows=1, ncols=2, figsize=(10, 3))\n",
    "ax[0].fill_between(percent_error, error_d_p, error_d_m, label='$m_{\\epsilon}$/m')\n",
    "ax[1].fill_between(percent_error, error_rho_p, error_rho_m, label='error mass(e_rho) / m')\n",
    "\n",
    "#ax.plot(x, curve, label='Fit', ls='none', marker='o', ms=1)\n",
    "#ax.plot(applied, measured, label='Measured $\\omega$', ls='none', marker='+', ms=12)\n",
    "\n",
    "#Lables, legend, grid, and title for plot\n",
    "ax[0].set_xlabel('$\\epsilon_{d}$ / d')\n",
    "ax[0].set_title('$m(\\epsilon)$/m') \n",
    "ax[0].legend(loc='upper left')\n",
    "ax[0].grid(True)\n",
    "\n",
    "ax[1].set_xlabel('$\\epsilon_{rho}$ / rho')\n",
    "ax[1].set_title('$m(\\epsilon)$/m') \n",
    "ax[1].legend(loc='upper left')\n",
    "ax[1].grid(True)"
   ]
  },
  {
   "cell_type": "markdown",
   "metadata": {},
   "source": [
    "#### Error $T_d$:\n",
    "\n",
    "We can do a similar analysis on $T_d$. After a cursory look at the data set it was clear that the standard deviation of the data is likely large compared to the values.\n",
    "\n",
    "$$T_d=\\frac{\\pi \\left\\langle \\vec{v}  \\right\\rangle^2 m_d}{8 k_B} = \\frac{\\pi ((x + \\delta x)^2 + (y + \\delta y)^2)^2 m_d}{8 k_B} $$\n",
    "\n",
    "Since the error between $x$ and $y$ clearly adds quadratically and it's likely $\\delta x \\approx \\delta y$, we can examine the worst case:"
   ]
  },
  {
   "cell_type": "code",
   "execution_count": 16,
   "metadata": {},
   "outputs": [
    {
     "data": {
      "image/png": "[encoded data removed]",
      "text/plain": [
       "<Figure size 432x288 with 1 Axes>"
      ]
     },
     "metadata": {
      "needs_background": "light"
     },
     "output_type": "display_data"
    }
   ],
   "source": [
    "x, y = 1, 1\n",
    "percent = x*0.2\n",
    "\n",
    "def tratio(dxy):\n",
    "    return ((x + dxy)**2+(y + dxy)**2)**2 / ((x)**2+(y)**2)**2\n",
    "\n",
    "percent_error = np.linspace(0,percent,100)\n",
    "error_x_p = tratio(np.linspace(0,percent,100))\n",
    "error_x_m = tratio(np.linspace(0,-percent,100))\n",
    "\n",
    "fig, ax = plt.subplots()\n",
    "ax.fill_between(percent_error, error_x_p, error_x_m, label='$T_{\\epsilon}$/T')\n",
    "\n",
    "#Lables, legend, grid, and title for plot\n",
    "ax.set_xlabel('$\\epsilon_{x}$ / x')\n",
    "ax.set_title('$T(\\epsilon)$/T') \n",
    "ax.legend(loc='upper left')\n",
    "ax.grid(True)"
   ]
  },
  {
   "cell_type": "markdown",
   "metadata": {},
   "source": [
    "Since $x$ and $y$ dispacements are correlated through energy conservation, it would be better to examine the error on $x$ & $y$ by looking at the standard deviation $\\left\\langle \\vec{v}  \\right\\rangle^2$ relative to the avarage value. "
   ]
  },
  {
   "cell_type": "code",
   "execution_count": 17,
   "metadata": {},
   "outputs": [
    {
     "data": {
      "text/plain": [
       "1.0599818667975525"
      ]
     },
     "execution_count": 17,
     "metadata": {},
     "output_type": "execute_result"
    }
   ],
   "source": [
    "np.std(datasum)/np.mean(datasum)"
   ]
  },
  {
   "cell_type": "markdown",
   "metadata": {},
   "source": [
    "Our standard deviation is on the order of our averaged measured value and the error in $T_d$ grows quadratically with $x$ and $y$. Replotting below to provide a better projection."
   ]
  },
  {
   "cell_type": "code",
   "execution_count": 18,
   "metadata": {},
   "outputs": [
    {
     "data": {
      "image/png": "[encoded data removed]",
      "text/plain": [
       "<Figure size 432x288 with 1 Axes>"
      ]
     },
     "metadata": {
      "needs_background": "light"
     },
     "output_type": "display_data"
    }
   ],
   "source": [
    "x, y = 1, 1\n",
    "percent = x\n",
    "\n",
    "def tratio(dxy):\n",
    "    return ((x + dxy)**2+(y)**2)**2 / ((x)**2+(y)**2)**2\n",
    "\n",
    "percent_error = np.linspace(0,percent,100)\n",
    "error_x_p = tratio(np.linspace(0,percent,100))\n",
    "error_x_m = tratio(np.linspace(0,-percent,100))\n",
    "\n",
    "fig, ax = plt.subplots()\n",
    "ax.fill_between(percent_error, error_x_p, error_x_m, label='$T_{\\epsilon}$/T')\n",
    "\n",
    "#Lables, legend, grid, and title for plot\n",
    "ax.set_xlabel('$\\epsilon_{x}$ / x')\n",
    "ax.set_title('$T(\\epsilon)$/T') \n",
    "ax.legend(loc='upper left')\n",
    "ax.grid(True)"
   ]
  },
  {
   "cell_type": "markdown",
   "metadata": {},
   "source": [
    "So $T_e$ could be a factor of ~6 off of the noiseless value of $T_d$. The noise is on the order of our signal so our value for $T_d$ could just an artifact of the noise. The measured value of $T_d$ is around what we expected, which could suggest the noise is less than predicted or the value we are getting is just an artifact of the noise.\n",
    "\n",
    "#### Error $Q_d$:\n",
    "Finally, examining $Q_d$: \n",
    "$$Q_d = \\frac{\\omega_{res}^2 }{E_1m_d}$$\n",
    "\n",
    "There aren't many data points that were averaged to get $\\omega_{res}$ but the SNR at the peak is higher relative to the prior data set. While the error grows quadratically, we believe the SNR and smoothing from the curve fitting could help get us a value close to expectations. If we assume the error is around 5%, we can examine errors at 1%, 5%, and 10% of the peak values we can add random noise to the data set to get a feel for the error propagation:"
   ]
  },
  {
   "cell_type": "code",
   "execution_count": 19,
   "metadata": {},
   "outputs": [
    {
     "data": {
      "image/png": "[encoded data removed]",
      "text/plain": [
       "<Figure size 720x216 with 2 Axes>"
      ]
     },
     "metadata": {
      "needs_background": "light"
     },
     "output_type": "display_data"
    }
   ],
   "source": [
    "def random_sample(alpha):\n",
    "    #returns a random sampling between -alpha and alpha\n",
    "    return np.random.sample(len(measured))*alpha - alpha\n",
    "\n",
    "random1 = measured - random_sample(1)\n",
    "random5 = measured - random_sample(5)\n",
    "random10 = measured - random_sample(10)\n",
    "\n",
    "[p1, omega1, beta1], pcov = curve_fit(resonanceCurve, applied, random1, bounds=(0, [50000, 2*np.pi*20, 100]), p0=[30000, 2*np.pi*5, 5])\n",
    "[p5, omega5, beta5], pcov = curve_fit(resonanceCurve, applied, random5, bounds=(0, [50000, 2*np.pi*20, 100]), p0=[30000, 2*np.pi*5, 5])\n",
    "[p10, omega10, beta10], pcov = curve_fit(resonanceCurve, applied, random10, bounds=(0, [50000, 2*np.pi*20, 100]), p0=[30000, 2*np.pi*5, 5])\n",
    "\n",
    "#Define the x and y values of the fitted fuction and plot it against the data.\n",
    "\n",
    "#x and y values for the fit\n",
    "x = np.linspace(60,190,1000)\n",
    "curve1 = resonanceCurve(x, p1, omega1, beta1)\n",
    "curve5 = resonanceCurve(x, p5, omega5, beta5)\n",
    "curve10 = resonanceCurve(x, p10, omega10, beta10)\n",
    "\n",
    "#Plotting omega measured along with the fit of the resonance function\n",
    "fig, ax = plt.subplots(nrows=1, ncols=2, figsize=(10, 3))\n",
    "ax[0].plot(x, curve1, label='Measure $\\omega /pm1$ ', ls='none', marker='o', ms=2)\n",
    "ax[0].plot(x, curve5, label='Measure $\\omega /pm5$ ', ls='none', marker='+', ms=2)\n",
    "ax[0].plot(x, curve10, label='Measure $\\omega /pm10$ ', ls='none', marker='+', ms=2)\n",
    "\n",
    "ax[1].plot(x, curve1, label='Measure $\\omega /pm1$ ', ls='none', marker='o', ms=2)\n",
    "ax[1].plot(x, curve5, label='Measure $\\omega /pm5$ ', ls='none', marker='+', ms=2)\n",
    "ax[1].plot(x, curve10, label='Measure $\\omega /pm10$ ', ls='none', marker='+', ms=2)\n",
    "\n",
    "#Lables, legend, grid, and title for plot\n",
    "ax[0].set_xlabel('$\\omega$ (1/s)')\n",
    "ax[0].set_ylabel('Fit for measured + error (in pixels)')\n",
    "ax[0].set_title('Error fits') \n",
    "ax[0].legend()\n",
    "ax[0].grid(True)\n",
    "\n",
    "#Lables, legend, grid, and title for plot\n",
    "ax[1].set_xlabel('$\\omega$ (1/s)')\n",
    "ax[1].set_ylabel('Fit for measured + error (in pixels)')\n",
    "ax[1].set_title('Peak zoom: Error fits') \n",
    "ax[1].legend()\n",
    "ax[1].set_xlim([115,130])\n",
    "ax[1].axes.set_ylim([25,70])\n",
    "ax[1].grid(True)"
   ]
  },
  {
   "cell_type": "code",
   "execution_count": 20,
   "metadata": {},
   "outputs": [
    {
     "data": {
      "text/plain": [
       "(123.36435523767473, 122.89343191556124, 122.69852497131335)"
      ]
     },
     "execution_count": 20,
     "metadata": {},
     "output_type": "execute_result"
    }
   ],
   "source": [
    "#Thee fit valuies for omega (because the added error is randomly generated these values and the plots abvove will be slightly different each time the code is run) \n",
    "omega1, omega5, omega10"
   ]
  },
  {
   "cell_type": "markdown",
   "metadata": {},
   "source": [
    "As perdicted, the results are not nearly as sensitive to error as $T_d$, even when the error is on the order of much of the data set we only got a small shift in the calculated $\\omega$. Since $Q_d = \\frac{\\omega_{res}^2 }{E_1m_d}$, even if the $\\frac{\\omega_{er}}{\\omega} \\approx 1.15$, we'd expect $\\frac{Q_{er}}{Q_d} \\approx 1.32$, or within ~30% of the true value."
   ]
  },
  {
   "cell_type": "markdown",
   "metadata": {},
   "source": [
    "#### Error in inter-particle spacing:\n",
    "\n",
    "We used $r_s = 7.355\\mu m$ for our dust radius. While this isn't exactly the dust radius, it is on the order of the true radius based on the theory. We can expect $r_s = 7.355 \\pm 5 \\mu m$ if the true radius is on the same order. As for our radial pixel measurement, it's clearly less than 4 and larger than half a pixel from analysis of the image. This would put our value for the inter-particle spacing at:\n",
    "\n",
    "$$r_{ips} = C*71.36 = \\frac{7.355 \\pm 5 \\mu m}{2 \\pm 1.5} * 71.36$$\n",
    "\n",
    "Using the relation for $r=\\frac xy$:\n",
    "$$dr = \\frac{ydx \\pm xdy}{y^2}$$\n",
    "\n",
    "Which puts our error at: "
   ]
  },
  {
   "cell_type": "code",
   "execution_count": 21,
   "metadata": {},
   "outputs": [
    {
     "name": "stdout",
     "output_type": "stream",
     "text": [
      "0.00037455079999999997 -1.7750800000000027e-05\n"
     ]
    }
   ],
   "source": [
    "x,y = 7.33*10**(-6),2\n",
    "dx,dy = 5*10**(-6),1.5\n",
    "dp = 71.36\n",
    "\n",
    "drp = (y*dx + x*dy)/y**2 * dp\n",
    "drm = (y*dx - x*dy)/y**2 * dp\n",
    "\n",
    "print(drp, drm)"
   ]
  },
  {
   "cell_type": "markdown",
   "metadata": {},
   "source": [
    "Which gives us:\n",
    "\n",
    "$r_{ips} = 356 \\mu m\n",
    "\\begin{cases} \n",
    "      + 374.55 \\mu m \\\\\n",
    "      - 17.75 \\mu m\n",
    "   \\end{cases}$\n",
    "\n",
    "Considering the source of the error, it is likely the real radius is much larger rather than smaller. The pixel measurement is the biggest issue, as we are heavily resolution limited but there is a clear bound on the error. \n",
    "\n",
    "This $C$ is another source of error in our measurement of $T_d$:\n",
    "\n",
    "$$T_d=\\frac{\\pi (\\left\\langle \\vec{v}  \\right\\rangle * (C\\pm \\epsilon_C))^2 m_d}{8 k_B}$$\n",
    "\n",
    "For error small relative to C, the error grows $O(c)$ which is small compared to $C^2$, but if $\\epsilon_C$ is on the order of C we get $O(c^2)$. We could try and confirm this result by placing a known spacing in the focal range of the camera and generate a new conversion factor to test against our assumed 0.5mm spacing."
   ]
  },
  {
   "cell_type": "markdown",
   "metadata": {},
   "source": [
    "## Section 5 Discussion and Conclusion\n",
    "***\n",
    "\n",
    "In a short time, we were able to collect and perform practical analysis of crystal structures that form from dust trapped in the plasma sheath. Although our calculated values are close, the nature of the error makes it hard to know for sure. I think our calculated value for $Q_d$ is likely very close to the true value due to the nature of error propagation in the experiment. The experiment measurements were imprecise, but there are many practical places where the measurements could be improved. Calculating a scaling factor for different focal lengths of a fixed camera, more statistics on the velocity measurements, and greater magnification to get a higher resolution measurement would be good starting points. \n",
    "\n",
    "While we're not able to say with confidence all of the results were accurate, that's not to say the experiment was a failure. Ultimately, we learned a lot about diagnostics, experimental procedure, and data analysis. We were able to diagnose the error contributions and propose real solutions. We did measure some values with reasonable accuracy. With this as our starting point, I believe it would be possible to refine the process to get very accurate results. "
   ]
  },
  {
   "cell_type": "markdown",
   "metadata": {},
   "source": [
    "## Section 6 References\n",
    "***\n",
    "[1.][1] A.Melzer, T.Trottenberg, A.Piel\n",
    "<br>Physics Letters A 1994 Volume 191, Issues 3–4, Pages 301-308\n",
    "\n",
    "[2.][2] Edward Thomas Jr., Jeremiah D. Williams, and Jennifer Silver\n",
    "<br>Physics of Plasmas 2004 11:7, L37-L40\n",
    "\n",
    "[1]: https://doi.org/10.1016/0375-9601(94)90144-9  \"Melzer\"\n",
    "[2]: https://aip.scitation.org/doi/10.1063/1.1755705       \"Thomas\""
   ]
  }
 ],
 "metadata": {
  "kernelspec": {
   "display_name": "Python 3",
   "language": "python",
   "name": "python3"
  },
  "language_info": {
   "codemirror_mode": {
    "name": "ipython",
    "version": 3
   },
   "file_extension": ".py",
   "mimetype": "text/x-python",
   "name": "python",
   "nbconvert_exporter": "python",
   "pygments_lexer": "ipython3",
   "version": "3.6.6"
  }
 },
 "nbformat": 4,
 "nbformat_minor": 2
}
